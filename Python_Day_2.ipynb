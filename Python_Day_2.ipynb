{
 "cells": [
  {
   "cell_type": "code",
   "execution_count": 10,
   "id": "2dff13c3-ab27-4281-b647-78c17508ba8a",
   "metadata": {},
   "outputs": [
    {
     "name": "stdout",
     "output_type": "stream",
     "text": [
      "Sum of the list: 15\n"
     ]
    }
   ],
   "source": [
    "#recursion\n",
    "#question 1: Write a Python program to calculate the sum of a list of numbers using recursion.\n",
    "def list_sum(numbers):\n",
    "    # Base case: if the list is empty, return 0\n",
    "    if len(numbers) == 0:\n",
    "        return 0\n",
    "    # Recursive case: sum the first element with the sum of the rest of the list\n",
    "    else:\n",
    "        return numbers[0] + list_sum(numbers[1:])\n",
    "\n",
    "# Example usage:\n",
    "numbers = [1, 2, 3, 4, 5]\n",
    "print(\"Sum of the list:\", list_sum(numbers))\n"
   ]
  },
  {
   "cell_type": "code",
   "execution_count": 11,
   "id": "9a8d1505-6104-486c-83f1-48ce9eaf0bd9",
   "metadata": {},
   "outputs": [
    {
     "name": "stdout",
     "output_type": "stream",
     "text": [
      "Sum of the list: 15\n"
     ]
    }
   ],
   "source": [
    "def list_sum(numbers):\n",
    "    if len(numbers)==0:\n",
    "        return 0\n",
    "    else:\n",
    "        return numbers[0]+list_sum(numbers[1:])\n",
    "numbers=[1,2,3,4,5]\n",
    "print(\"Sum of the list:\",list_sum(numbers))"
   ]
  },
  {
   "cell_type": "code",
   "execution_count": 1,
   "id": "de2a2bc7-71f7-438d-9bd5-b9063d4b0df9",
   "metadata": {},
   "outputs": [
    {
     "name": "stdin",
     "output_type": "stream",
     "text": [
      "Enter first number:  600\n",
      "Enter second number: 400\n"
     ]
    },
    {
     "name": "stdout",
     "output_type": "stream",
     "text": [
      "1000\n"
     ]
    }
   ],
   "source": [
    "#add two number \n",
    "x=int(input(\"Enter first number: \"))\n",
    "y=int(input(\"Enter second number:\"))\n",
    "z=x+y\n",
    "print(z)"
   ]
  },
  {
   "cell_type": "code",
   "execution_count": 6,
   "id": "8607bf26-ad54-4f59-94e4-57dfbcb41c99",
   "metadata": {},
   "outputs": [
    {
     "name": "stdin",
     "output_type": "stream",
     "text": [
      "Enter first number:  49\n"
     ]
    },
    {
     "name": "stdout",
     "output_type": "stream",
     "text": [
      "7.0\n"
     ]
    }
   ],
   "source": [
    "#Find & Calculate Square Root \n",
    "x=float(input(\"Enter first number: \"))\n",
    "sq=x**0.5\n",
    "print(sq)"
   ]
  },
  {
   "cell_type": "code",
   "execution_count": 7,
   "id": "fd8e0f85-fa1e-485d-ac5c-d593387f43ee",
   "metadata": {},
   "outputs": [
    {
     "name": "stdin",
     "output_type": "stream",
     "text": [
      "Enter first number:  64\n"
     ]
    },
    {
     "name": "stdout",
     "output_type": "stream",
     "text": [
      "8.0\n"
     ]
    }
   ],
   "source": [
    "import math\n",
    "x=float(input(\"Enter first number: \"))\n",
    "sqr=math.sqrt(x)\n",
    "print(sqr)"
   ]
  },
  {
   "cell_type": "code",
   "execution_count": 10,
   "id": "386207e7-5767-4b39-80b6-8209cbe94e75",
   "metadata": {},
   "outputs": [
    {
     "name": "stdin",
     "output_type": "stream",
     "text": [
      "Enter base number:  2\n",
      "Enter height number:  4\n"
     ]
    },
    {
     "name": "stdout",
     "output_type": "stream",
     "text": [
      "Area of Triangle is: 4.0\n"
     ]
    }
   ],
   "source": [
    "#How to Calculate Area of Triangle \n",
    "x=float(input(\"Enter base number: \"))\n",
    "y=float(input(\"Enter height number: \"))\n",
    "z=0.5*x*y\n",
    "print(\"Area of Triangle is:\",z)"
   ]
  },
  {
   "cell_type": "code",
   "execution_count": 11,
   "id": "55e0e75a-6ad0-49bf-8049-894251514dd4",
   "metadata": {},
   "outputs": [
    {
     "name": "stdout",
     "output_type": "stream",
     "text": [
      "10 40\n"
     ]
    }
   ],
   "source": [
    "#Swap Two Variables in Python\n",
    "n=10\n",
    "m=40\n",
    "s=n\n",
    "n=m\n",
    "m=s\n",
    "print(m,n)\n"
   ]
  },
  {
   "cell_type": "code",
   "execution_count": 13,
   "id": "c3440234-2db9-48c1-bb60-b4fd6196bc34",
   "metadata": {},
   "outputs": [
    {
     "name": "stdin",
     "output_type": "stream",
     "text": [
      "Enter first number:  214\n",
      "Enter second number: 342\n"
     ]
    },
    {
     "name": "stdout",
     "output_type": "stream",
     "text": [
      "The first number: 342\n",
      "The second number: 214\n"
     ]
    }
   ],
   "source": [
    "x=int(input(\"Enter first number: \"))\n",
    "y=int(input(\"Enter second number:\"))\n",
    "x,y=y,x\n",
    "print(\"The first number:\",x)\n",
    "print(\"The second number:\",y)"
   ]
  },
  {
   "cell_type": "code",
   "execution_count": 18,
   "id": "abf07663-f72b-4e6f-b5cb-c1edcb0433d2",
   "metadata": {},
   "outputs": [
    {
     "name": "stdin",
     "output_type": "stream",
     "text": [
      "Enter kilometer:  5\n"
     ]
    },
    {
     "name": "stdout",
     "output_type": "stream",
     "text": [
      "3.106855\n"
     ]
    }
   ],
   "source": [
    "#Convert Kilometers to Miles\n",
    "#0.621371\n",
    "x=int(input(\"Enter kilometer: \"))\n",
    "y=0.621371*x\n",
    "print(y)"
   ]
  },
  {
   "cell_type": "code",
   "execution_count": 21,
   "id": "d324d694-aec3-42dd-b459-e126a00fd452",
   "metadata": {},
   "outputs": [
    {
     "name": "stdin",
     "output_type": "stream",
     "text": [
      "Enter  number:  -6\n"
     ]
    },
    {
     "name": "stdout",
     "output_type": "stream",
     "text": [
      "The number is negative\n"
     ]
    }
   ],
   "source": [
    "#Is a Number Positive Negative or Zero\n",
    "x=int(input(\"Enter  number: \"))\n",
    "if x<0:\n",
    "    print(\"The number is negative\")\n",
    "elif x>0:\n",
    "    print(\"The number is positive\")\n",
    "else:\n",
    "    print(\"The number is zero\")"
   ]
  },
  {
   "cell_type": "code",
   "execution_count": 30,
   "id": "aeb96621-b061-44b0-9482-a9508cb45c24",
   "metadata": {},
   "outputs": [
    {
     "name": "stdin",
     "output_type": "stream",
     "text": [
      "Enter  number:  35\n"
     ]
    },
    {
     "name": "stdout",
     "output_type": "stream",
     "text": [
      "The number is odd\n"
     ]
    }
   ],
   "source": [
    "#Is a Number Odd or Even\n",
    "x=int(input(\"Enter  number: \"))\n",
    "if (x%2==0):\n",
    "    print(\"The number is even\")\n",
    "else:\n",
    "    print(\"The number is odd\")\n"
   ]
  },
  {
   "cell_type": "code",
   "execution_count": 38,
   "id": "c0596723-28e7-4d1f-9c98-8d444429ed62",
   "metadata": {},
   "outputs": [
    {
     "name": "stdin",
     "output_type": "stream",
     "text": [
      "Enter  number:  2023\n"
     ]
    },
    {
     "name": "stdout",
     "output_type": "stream",
     "text": [
      "2023 Year is not a leap year\n"
     ]
    }
   ],
   "source": [
    "#Program to Check Leap Year\n",
    "year=int(input(\"Enter  number: \"))\n",
    "if (year%400==0) and (year%100==0):\n",
    "    print(year,\"Year is a leap year\")\n",
    "elif (year%4==0) and (year%100!=0):\n",
    "    print(year,\"Year is a leap year\")\n",
    "else:\n",
    "    print(year,\"Year is not a leap year\")\n",
    "    "
   ]
  },
  {
   "cell_type": "code",
   "execution_count": null,
   "id": "3b5c6715-09ec-4dc8-90f4-5f6c41770231",
   "metadata": {},
   "outputs": [],
   "source": [
    "#Find the Largest Among Three Numbers\n",
    "x=int(input(\"Enter first number: \"))\n",
    "y=int(input(\"Enter second number:\"))\n",
    "z=int(input(\"Enter third number: \"))\n",
    "if(x>y and x>z):\n",
    "    print(\"x is the largest number\")\n",
    "elif(y>x and y>z):\n",
    "    print(\"y is the largest number\")\n"
   ]
  }
 ],
 "metadata": {
  "kernelspec": {
   "display_name": "Python 3 (ipykernel)",
   "language": "python",
   "name": "python3"
  },
  "language_info": {
   "codemirror_mode": {
    "name": "ipython",
    "version": 3
   },
   "file_extension": ".py",
   "mimetype": "text/x-python",
   "name": "python",
   "nbconvert_exporter": "python",
   "pygments_lexer": "ipython3",
   "version": "3.11.4"
  }
 },
 "nbformat": 4,
 "nbformat_minor": 5
}
